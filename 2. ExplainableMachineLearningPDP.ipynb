{
  "cells": [
    {
      "cell_type": "markdown",
      "source": [
        "# Partial Dependence Plots\n",
        "\n",
        "While feature importance shows **what** variables most affect predictions, partial dependence plots show **how** a feature affects predictions.\n",
        "\nThis is useful to answer questions like: *Controlling for all other house features, what impact do longitude and latitude have on home prices?*"
      ],
      "metadata": {}
    },
    {
      "cell_type": "code",
      "source": [
        "!pip install pdpbox"
      ],
      "outputs": [],
      "execution_count": null,
      "metadata": {
        "collapsed": false,
        "outputHidden": true,
        "inputHidden": false
      }
    },
    {
      "cell_type": "code",
      "source": [
        "import numpy as np\n",
        "import pandas as pd\n",
        "from sklearn.model_selection import train_test_split\n",
        "from sklearn.ensemble import RandomForestClassifier\n",
        "from sklearn.tree import DecisionTreeClassifier\n",
        "\n",
        "data = pd.read_csv('https://raw.githubusercontent.com/DataScienceUB/ExplainableDataScience/master/FIFA%202018%20Statistics.csv')\n",
        "y = (data['Man of the Match'] == \"Yes\")  # Convert from string \"Yes\"/\"No\" to binary\n",
        "feature_names = [i for i in data.columns if data[i].dtype in [np.int64]]\n",
        "X = data[feature_names]\n",
        "train_X, val_X, train_y, val_y = train_test_split(X, y, random_state=1)\n",
        "tree_model = DecisionTreeClassifier(random_state=0, max_depth=5, min_samples_split=5).fit(train_X, train_y)"
      ],
      "outputs": [],
      "execution_count": null,
      "metadata": {}
    },
    {
      "cell_type": "code",
      "source": [
        "from matplotlib import pyplot as plt\n",
        "from pdpbox import pdp, get_dataset, info_plots\n",
        "\n",
        "# Create the data that we will plot\n",
        "pdp_goals = pdp.pdp_isolate(model=tree_model, \n",
        "                            dataset=val_X, \n",
        "                            model_features=feature_names, \n",
        "                            feature='Goal Scored')\n",
        "\n",
        "# plot it\n",
        "pdp.pdp_plot(pdp_goals, 'Goal Scored')\n",
        "plt.show()"
      ],
      "outputs": [],
      "execution_count": null,
      "metadata": {
        "collapsed": false,
        "outputHidden": false,
        "inputHidden": false
      }
    },
    {
      "cell_type": "markdown",
      "source": [
        "The `y` axis is interpreted as change in the prediction from what it would be predicted at the baseline or leftmost value.\n",
        "\n",
        "A blue shaded area indicates level of confidence\n",
        "\n",
        "From this particular graph, the explanation we can produce is: **Scoring a goal substantially increases your chances of winning \"Player of The Game.\" But extra goals beyond that appear to have little impact on predictions.**\n",
        "\nHere is another example plot:"
      ],
      "metadata": {
        "collapsed": false,
        "outputHidden": false,
        "inputHidden": false
      }
    },
    {
      "cell_type": "code",
      "source": [
        "feature_to_plot = 'Distance Covered (Kms)'\n",
        "pdp_dist = pdp.pdp_isolate(model=tree_model, dataset=val_X, model_features=feature_names, feature=feature_to_plot)\n",
        "\n",
        "pdp.pdp_plot(pdp_dist, feature_to_plot)\n",
        "plt.show()"
      ],
      "outputs": [],
      "execution_count": null,
      "metadata": {
        "collapsed": false,
        "outputHidden": false,
        "inputHidden": false
      }
    },
    {
      "cell_type": "markdown",
      "source": [
        "**Question**: What is the explanation you can produce from this graph?"
      ],
      "metadata": {}
    },
    {
      "cell_type": "markdown",
      "source": [
        "*Your answer here*"
      ],
      "metadata": {}
    }
  ],
  "metadata": {
    "colab": {
      "name": "ExplainableMachineLearningShap.ipynb",
      "version": "0.3.2",
      "provenance": [],
      "collapsed_sections": []
    },
    "kernelspec": {
      "name": "python3",
      "language": "python",
      "display_name": "Python 3"
    },
    "kernel_info": {
      "name": "python3"
    },
    "language_info": {
      "name": "python",
      "version": "3.6.5",
      "mimetype": "text/x-python",
      "codemirror_mode": {
        "name": "ipython",
        "version": 3
      },
      "pygments_lexer": "ipython3",
      "nbconvert_exporter": "python",
      "file_extension": ".py"
    },
    "nteract": {
      "version": "0.12.3"
    }
  },
  "nbformat": 4,
  "nbformat_minor": 0
}